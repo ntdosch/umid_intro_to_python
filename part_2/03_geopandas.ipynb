{
 "cells": [
  {
   "cell_type": "markdown",
   "id": "973c51b1-ab90-4e3a-acdf-00cb5741c366",
   "metadata": {},
   "source": [
    "# Working with geospatial data\n",
    "In this notebook, we'll use a few of tools we explored in earlier examples and introduce the powerful `geopandas` library for working with and visulaizing geospatial vector data.\n",
    "\n",
    "## [Nice overview tutorial](https://geopandas.org/en/stable/getting_started/introduction.html)\n",
    "## [Examples Gallery](https://geopandas.org/en/stable/gallery/index.html)"
   ]
  },
  {
   "cell_type": "code",
   "execution_count": null,
   "id": "e9b0ff75-4222-4416-a6ca-99bc1a9c01ec",
   "metadata": {},
   "outputs": [],
   "source": [
    "import geopandas as gpd"
   ]
  },
  {
   "cell_type": "markdown",
   "id": "293785f5-4848-4289-9ec2-0aa4292001f2",
   "metadata": {},
   "source": [
    "## Loading shapefiles with `geopandas`\n",
    "\n",
    "Let's read in a shapefile of the United States using `read_file()`"
   ]
  },
  {
   "cell_type": "code",
   "execution_count": null,
   "id": "97a0386f-3150-43a2-b567-8a0544a5290f",
   "metadata": {},
   "outputs": [],
   "source": [
    "usa = gpd.read_file('data/cb_2018_us_state_20m.shp')"
   ]
  },
  {
   "cell_type": "markdown",
   "id": "3b6b8307-6acf-40a8-980c-1380c8d1fbf4",
   "metadata": {},
   "source": [
    "### `geopandas` is a lot like `pandas`, except with a special **geometry** column"
   ]
  },
  {
   "cell_type": "code",
   "execution_count": null,
   "id": "f9404d76-abc2-4212-b8e6-66c00a730215",
   "metadata": {},
   "outputs": [],
   "source": [
    "usa.head()"
   ]
  },
  {
   "cell_type": "markdown",
   "id": "d5fb151a-1fe5-4c8d-af01-fa8194a8dbde",
   "metadata": {},
   "source": [
    "## you can use `pandas` operations to access your geodataframe, for example `loc`"
   ]
  },
  {
   "cell_type": "code",
   "execution_count": null,
   "id": "a69d6e4c-b216-4737-ac28-54eecbd8579e",
   "metadata": {},
   "outputs": [],
   "source": [
    "wisconsin = usa.loc[usa.NAME=='Wisconsin']"
   ]
  },
  {
   "cell_type": "markdown",
   "id": "6ac0b13f-9ae6-4535-927b-8113458752c6",
   "metadata": {},
   "source": [
    "## you can easily look at your your shapefile spatially with `plot()`"
   ]
  },
  {
   "cell_type": "code",
   "execution_count": null,
   "id": "fadcac34-cfe1-43df-88fd-f31ca886f11b",
   "metadata": {},
   "outputs": [],
   "source": [
    "wisconsin.plot();"
   ]
  },
  {
   "cell_type": "markdown",
   "id": "bbd288cd-b759-4b1d-ab48-3843cf7313af",
   "metadata": {},
   "source": [
    "## Coordiate reference information is key\n",
    "### the `crs` attribute has important metadata about the [spatial reference system](https://en.wikipedia.org/wiki/Spatial_reference_system)"
   ]
  },
  {
   "cell_type": "code",
   "execution_count": null,
   "id": "6d88eb22-1f59-474d-b34b-0385f55ca92f",
   "metadata": {},
   "outputs": [],
   "source": [
    "wisconsin.crs"
   ]
  },
  {
   "cell_type": "markdown",
   "id": "3a436b49-e5d0-424a-9898-7e6f8a348718",
   "metadata": {},
   "source": [
    "### Often, CRS information are defined by [EPSG codes](https://epsg.org/home.html). Most common projections have one!\n",
    "EPSG code [4269](https://spatialreference.org/ref/epsg/nad83/) is NAD83\n",
    "\n",
    "## Reprojection is easy, just use `to_crs`\n",
    "We can reproject our Wisconsin geodataframe to UTM zone 16 N (epsg 26916)"
   ]
  },
  {
   "cell_type": "code",
   "execution_count": null,
   "id": "657edd47-db84-49a8-b636-9340b639ed69",
   "metadata": {},
   "outputs": [],
   "source": [
    "wisconsin = wisconsin.to_crs(26916)\n",
    "wisconsin.plot();"
   ]
  },
  {
   "cell_type": "markdown",
   "id": "6251be2e-8645-4383-ae7b-70e2a00f0f53",
   "metadata": {},
   "source": [
    "### Now try France Lambert 93 (not recommended)"
   ]
  },
  {
   "cell_type": "code",
   "execution_count": null,
   "id": "ccd3c623-e9f9-46f2-9db0-faab64035e41",
   "metadata": {},
   "outputs": [],
   "source": [
    "wisconsin = wisconsin.to_crs(2154)\n",
    "wisconsin.plot();"
   ]
  },
  {
   "cell_type": "markdown",
   "id": "795aca19-ba74-42ce-b1fe-daadc0b71578",
   "metadata": {},
   "source": [
    "### Finally, reproject back to our original CRS"
   ]
  },
  {
   "cell_type": "code",
   "execution_count": null,
   "id": "7337892b-162f-4baf-b59f-715da38e9c8f",
   "metadata": {},
   "outputs": [],
   "source": [
    "wisconsin = wisconsin.to_crs(4269)\n",
    "wisconsin.plot();"
   ]
  },
  {
   "cell_type": "markdown",
   "id": "edd52860-1dc2-43f8-8864-441b9b5070ac",
   "metadata": {},
   "source": [
    "# Let's make our own shapefile"
   ]
  },
  {
   "cell_type": "markdown",
   "id": "6a27ded5-98a3-46f1-885f-594ba48d60be",
   "metadata": {},
   "source": [
    "## Question: Where are the wells with the oldest groundwater level measurements in Wisconsin?\n",
    "\n",
    "We can use the `what_sites()` funciton from dataretrieval to get site data as a pandas DataFrame"
   ]
  },
  {
   "cell_type": "code",
   "execution_count": null,
   "id": "cefd8323-85c6-408b-a2b9-d8c66de6c93d",
   "metadata": {},
   "outputs": [],
   "source": [
    "from dataretrieval import nwis\n",
    "import pandas as pd"
   ]
  },
  {
   "cell_type": "code",
   "execution_count": null,
   "id": "2a786b6d-7572-497d-b836-b7af3f7461e1",
   "metadata": {},
   "outputs": [],
   "source": [
    "df, md = nwis.what_sites(stateCd='WI', outputDataTypeCd='gw')\n",
    "\n",
    "df"
   ]
  },
  {
   "cell_type": "markdown",
   "id": "9e48a61d-6539-4fb7-be5d-a9cd2a228885",
   "metadata": {},
   "source": [
    "## Let's narrow this down and look at the oldest sites\n",
    "wells with data from before January 1st, 1900"
   ]
  },
  {
   "cell_type": "markdown",
   "id": "fed04dfe-72f6-428d-b955-4086da00d7a5",
   "metadata": {},
   "source": [
    "Convert start and end dates to datetime dtype"
   ]
  },
  {
   "cell_type": "code",
   "execution_count": null,
   "id": "677df564-accf-4429-9065-c785cadcd5d3",
   "metadata": {},
   "outputs": [],
   "source": [
    "df.begin_date = pd.to_datetime(df.begin_date)\n",
    "df.end_date\t= pd.to_datetime(df.begin_date)"
   ]
  },
  {
   "cell_type": "code",
   "execution_count": null,
   "id": "e95c055e-8719-41aa-842c-0d049222ccbb",
   "metadata": {},
   "outputs": [],
   "source": [
    "oldest_sites = df.loc[df.begin_date<pd.to_datetime('1900-01-01')].copy()"
   ]
  },
  {
   "cell_type": "markdown",
   "id": "70bef952-1e33-47ea-93d4-328388c2a749",
   "metadata": {},
   "source": [
    "### Compute age in years using begin date"
   ]
  },
  {
   "cell_type": "code",
   "execution_count": null,
   "id": "496a1b62-05b2-4ef6-a029-f1e81c5e80ec",
   "metadata": {},
   "outputs": [],
   "source": [
    "oldest_sites['jstart'] = [i.to_julian_date() for i in oldest_sites.begin_date]\n",
    "today = pd.to_datetime('today').to_julian_date()\n",
    "\n",
    "oldest_sites['age_yrs'] = (today - oldest_sites['jstart']) / 365.25\n",
    "oldest_sites"
   ]
  },
  {
   "cell_type": "markdown",
   "id": "08c6313e-9efb-41f2-8336-ff90ed30e214",
   "metadata": {},
   "source": [
    "### Drop duplicate wells"
   ]
  },
  {
   "cell_type": "code",
   "execution_count": null,
   "id": "d818edea-cb07-4a27-bce0-4a094b5197fb",
   "metadata": {},
   "outputs": [],
   "source": [
    "oldest_sites = oldest_sites.drop_duplicates(subset=['site_no'])\n",
    "oldest_sites"
   ]
  },
  {
   "cell_type": "markdown",
   "id": "f0498c04-3cb4-4bea-a0dd-8b1b4bb49689",
   "metadata": {},
   "source": [
    "## Convert this pandas DataFrame to a geopandas GeoDataFrame\n",
    "\n",
    "### specify the geometry using lat and lon data and `points_from_xy`"
   ]
  },
  {
   "cell_type": "code",
   "execution_count": null,
   "id": "8d378022-6802-4f7c-a6e0-0ccaa2d1d57a",
   "metadata": {},
   "outputs": [],
   "source": [
    "gdf = gpd.GeoDataFrame(oldest_sites, \n",
    "                       geometry=gpd.points_from_xy(x=oldest_sites.dec_long_va, \n",
    "                                                   y=oldest_sites.dec_lat_va), \n",
    "                       crs=4269) # also need to specify CRS"
   ]
  },
  {
   "cell_type": "markdown",
   "id": "ede38040-7ea9-4b2a-8c74-b134989d3d43",
   "metadata": {},
   "source": [
    "## check out the data spatially using the very cool `.explore()`"
   ]
  },
  {
   "cell_type": "code",
   "execution_count": null,
   "id": "998090ef-65e6-4b8d-b8d8-6e49ae085ccc",
   "metadata": {},
   "outputs": [],
   "source": [
    "gdf[['age_yrs', 'site_no', 'station_nm', 'geometry']].explore(column='age_yrs')"
   ]
  },
  {
   "cell_type": "markdown",
   "id": "ac3fb19e-8c07-48d8-8e90-d3ad1089c340",
   "metadata": {},
   "source": [
    "[1866!](https://waterdata.usgs.gov/nwis/inventory?agency_code=USGS&site_no=434821090454501)"
   ]
  },
  {
   "cell_type": "markdown",
   "id": "b77ac1f3-de69-4ca9-9fd1-916a7b801b59",
   "metadata": {},
   "source": [
    "## Make our own map"
   ]
  },
  {
   "cell_type": "code",
   "execution_count": null,
   "id": "2eb1f0ee-c5fb-4a96-b93c-4df9d1e8d84e",
   "metadata": {},
   "outputs": [],
   "source": [
    "import matplotlib.pyplot as plt"
   ]
  },
  {
   "cell_type": "code",
   "execution_count": null,
   "id": "f989f768-fdb3-4e1e-979a-1c8b8457e9cf",
   "metadata": {},
   "outputs": [],
   "source": [
    "fig, ax = plt.subplots()\n",
    "wisconsin.plot(ax=ax, fc='None', ec='black')\n",
    "gdf.plot(ax=ax, column='age_yrs', legend=True, legend_kwds={\"label\": \"Age in years\"})\n",
    "plt.title('The oldest water level data in Wisconsin');"
   ]
  },
  {
   "cell_type": "markdown",
   "id": "1f58cc0e-2dba-43f7-9c7a-d419a08dc665",
   "metadata": {},
   "source": [
    "## Save this new shapefile using `to_file`"
   ]
  },
  {
   "cell_type": "code",
   "execution_count": null,
   "id": "38409a3f-f6c4-4a14-bf09-3ff6e7cba4db",
   "metadata": {},
   "outputs": [],
   "source": [
    "gdf.to_file('data/oldest_gw_sites.shp')"
   ]
  },
  {
   "cell_type": "code",
   "execution_count": null,
   "id": "e6bb8a76-b715-43ff-810e-3219c572a3c8",
   "metadata": {},
   "outputs": [],
   "source": []
  }
 ],
 "metadata": {
  "kernelspec": {
   "display_name": "Python 3 (ipykernel)",
   "language": "python",
   "name": "python3"
  },
  "language_info": {
   "codemirror_mode": {
    "name": "ipython",
    "version": 3
   },
   "file_extension": ".py",
   "mimetype": "text/x-python",
   "name": "python",
   "nbconvert_exporter": "python",
   "pygments_lexer": "ipython3",
   "version": "3.11.5"
  }
 },
 "nbformat": 4,
 "nbformat_minor": 5
}
