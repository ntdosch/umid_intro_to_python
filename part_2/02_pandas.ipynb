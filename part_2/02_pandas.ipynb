{
 "cells": [
  {
   "cell_type": "code",
   "execution_count": null,
   "id": "55616c4e-9e2e-4f85-8c1a-4ee210ba8d2d",
   "metadata": {},
   "outputs": [],
   "source": [
    "import dataretrieval\n",
    "import pandas as pd\n",
    "import matplotlib.pyplot as plt\n",
    "from matplotlib.backends.backend_pdf import PdfPages"
   ]
  },
  {
   "cell_type": "markdown",
   "id": "3032afd5-6506-44c4-a6af-f118c072be7a",
   "metadata": {},
   "source": [
    "## this is a great overview of the main pandas functionality\n",
    "https://pandas.pydata.org/docs/user_guide/10min.html"
   ]
  },
  {
   "cell_type": "markdown",
   "id": "ce7ca06d-8b0b-4e6b-9b66-9f34d3534c62",
   "metadata": {},
   "source": [
    "## quick grab some data from NWIS - let's get the CO River at Lee's Ferry"
   ]
  },
  {
   "cell_type": "code",
   "execution_count": null,
   "id": "c0ddbd39-72b7-47c9-bf2b-ce3c2c266ff4",
   "metadata": {},
   "outputs": [],
   "source": [
    "site = '09380000'"
   ]
  },
  {
   "cell_type": "code",
   "execution_count": null,
   "id": "f76115d2-b86d-4a55-b3a7-4375cd2edda3",
   "metadata": {},
   "outputs": [],
   "source": [
    "df = dataretrieval.get_record(sites=site, service='dv', start='1922-10-01',end='2023-09-19')\n",
    "df.head()"
   ]
  },
  {
   "cell_type": "code",
   "execution_count": null,
   "id": "611d98de-e3cc-4ba0-aa5a-5d4fe33933c2",
   "metadata": {},
   "outputs": [],
   "source": [
    "pmcodes = dataretrieval.get_record(service='pmcodes',parameterCd=['00060','00095','80154'])"
   ]
  },
  {
   "cell_type": "code",
   "execution_count": null,
   "id": "5ffcaf97-0f07-4ff9-8976-20cc4d46a182",
   "metadata": {},
   "outputs": [],
   "source": [
    "pmcodes"
   ]
  },
  {
   "cell_type": "markdown",
   "id": "9756e018-ade7-4101-ae8a-eb9770f59749",
   "metadata": {},
   "source": [
    "## we can access data by label(column), the index, locations, or attributes using booleans"
   ]
  },
  {
   "cell_type": "code",
   "execution_count": null,
   "id": "74e13fc5-cb5b-4279-95ef-aff34f4de969",
   "metadata": {},
   "outputs": [],
   "source": [
    "df.T"
   ]
  },
  {
   "cell_type": "code",
   "execution_count": null,
   "id": "b43670bf-0fcb-4718-9113-e332bc3c957e",
   "metadata": {},
   "outputs": [],
   "source": [
    "df['00095_Mean']"
   ]
  },
  {
   "cell_type": "code",
   "execution_count": null,
   "id": "f47f1d56-59f7-42ae-bf90-5ed944fa4580",
   "metadata": {},
   "outputs": [],
   "source": [
    "df.iloc[1]"
   ]
  },
  {
   "cell_type": "code",
   "execution_count": null,
   "id": "0ffa8adb-cd8f-4699-8723-e3bcbb19a984",
   "metadata": {},
   "outputs": [],
   "source": [
    "df.loc[df.index.year==1922]"
   ]
  },
  {
   "cell_type": "markdown",
   "id": "ac427238-c326-4f68-83d2-16f1730fbd27",
   "metadata": {},
   "source": [
    "### let's subset to only the columns we care about"
   ]
  },
  {
   "cell_type": "code",
   "execution_count": null,
   "id": "835b692d-d343-4f70-b8b6-f68bcc81e7d8",
   "metadata": {},
   "outputs": [],
   "source": [
    "df = df[['site_no','00060_Mean']]\n",
    "df"
   ]
  },
  {
   "cell_type": "markdown",
   "id": "9dca3453-679e-48eb-912e-77b10a6e87ff",
   "metadata": {},
   "source": [
    "## and rename them to better names"
   ]
  },
  {
   "cell_type": "code",
   "execution_count": null,
   "id": "cfc7b594-512e-4eff-8575-544884d9f187",
   "metadata": {},
   "outputs": [],
   "source": [
    "df = df.rename(columns={\"00060_Mean\":\"Q_cfs\"})\n",
    "df"
   ]
  },
  {
   "cell_type": "markdown",
   "id": "a148f064-01a2-4b4f-87db-ecd4479dbfcd",
   "metadata": {},
   "source": [
    "## we can see summary attributes"
   ]
  },
  {
   "cell_type": "code",
   "execution_count": null,
   "id": "b1ef81e8-a49c-4f89-b456-3b0acc231506",
   "metadata": {},
   "outputs": [],
   "source": [
    "df.describe()"
   ]
  },
  {
   "cell_type": "code",
   "execution_count": null,
   "id": "e03669e0-7139-450d-83c4-6f75b799a406",
   "metadata": {},
   "outputs": [],
   "source": [
    "df['Q_cfs'].mean()"
   ]
  },
  {
   "cell_type": "code",
   "execution_count": null,
   "id": "4c0f0e4f-d40a-430f-b431-5b7f0d0858ef",
   "metadata": {},
   "outputs": [],
   "source": [
    "df.value_counts()"
   ]
  },
  {
   "cell_type": "markdown",
   "id": "0e07ee23-08c8-4485-bf19-a5781b122803",
   "metadata": {},
   "source": [
    "## make a quick plot"
   ]
  },
  {
   "cell_type": "code",
   "execution_count": null,
   "id": "408037cc-a6b6-45d1-bd78-b9c073f6c71b",
   "metadata": {},
   "outputs": [],
   "source": [
    "df.Q_cfs.plot()"
   ]
  },
  {
   "cell_type": "markdown",
   "id": "5d610ada-a8b2-4630-825a-5ac56cd55b37",
   "metadata": {},
   "source": [
    "## or a histogram"
   ]
  },
  {
   "cell_type": "code",
   "execution_count": null,
   "id": "77c784fe-78c8-492d-ad62-49961e29f4ce",
   "metadata": {},
   "outputs": [],
   "source": [
    "df.Q_cfs.hist(bins=50)"
   ]
  },
  {
   "cell_type": "markdown",
   "id": "dc112baf-a847-4054-b801-5ce95e214a9b",
   "metadata": {},
   "source": [
    "## drop to excel"
   ]
  },
  {
   "cell_type": "code",
   "execution_count": null,
   "id": "7ab9957a-2f0b-45dc-a9b4-7e1e90686132",
   "metadata": {},
   "outputs": [],
   "source": [
    "df.to_excel('mydata.xlsx')"
   ]
  },
  {
   "cell_type": "markdown",
   "id": "e0f3a845-1245-45a4-9f39-3d61a7c03065",
   "metadata": {},
   "source": [
    "https://stackoverflow.com/questions/16628819/convert-pandas-timezone-aware-datetimeindex-to-naive-timestamp-but-in-certain-t"
   ]
  },
  {
   "cell_type": "code",
   "execution_count": null,
   "id": "a78a7b06-5e3f-4064-8d7a-687d987b0794",
   "metadata": {},
   "outputs": [],
   "source": [
    "df.index = pd.DatetimeIndex([i.replace(tzinfo=None) for i in df.index])"
   ]
  },
  {
   "cell_type": "code",
   "execution_count": null,
   "id": "48b3e80a-576b-41ea-8fdd-7bac621e8ce0",
   "metadata": {},
   "outputs": [],
   "source": [
    "df.to_excel('mydata.xlsx')"
   ]
  },
  {
   "cell_type": "markdown",
   "id": "8e31a2d7-3a03-427d-9121-db3f9dfd175d",
   "metadata": {},
   "source": [
    "## and read it back in"
   ]
  },
  {
   "cell_type": "code",
   "execution_count": null,
   "id": "a8394cf9-2f5b-4212-8f52-d3a4f8278837",
   "metadata": {},
   "outputs": [],
   "source": [
    "df = pd.read_excel('mydata.xlsx', usecols=\"a,C\", index_col=0)"
   ]
  },
  {
   "cell_type": "code",
   "execution_count": null,
   "id": "702e0e65-bf6a-45bd-9c28-21cde148d1d1",
   "metadata": {},
   "outputs": [],
   "source": [
    "df"
   ]
  },
  {
   "cell_type": "code",
   "execution_count": null,
   "id": "0cabbf4b-f090-4420-95f3-be8d86b6bcfe",
   "metadata": {},
   "outputs": [],
   "source": [
    "df = pd.read_excel('mydata.xlsx', index_col=0)"
   ]
  },
  {
   "cell_type": "code",
   "execution_count": null,
   "id": "17bc6941-e58e-4322-bbfd-f64fb3d216e9",
   "metadata": {},
   "outputs": [],
   "source": [
    "df.groupby(df.index.year)['Q_cfs'].min()"
   ]
  },
  {
   "cell_type": "code",
   "execution_count": null,
   "id": "a8b38350-479c-4c38-aff9-27dba9874610",
   "metadata": {},
   "outputs": [],
   "source": [
    "df.groupby(df.index.year)['Q_cfs'].min().plot.bar()"
   ]
  },
  {
   "cell_type": "code",
   "execution_count": null,
   "id": "f4a4c135-50bd-4bb4-a7d3-a17faa737c0a",
   "metadata": {},
   "outputs": [],
   "source": [
    "df.groupby(df.index.year)['Q_cfs'].min().plot.bar(figsize=(14,4))"
   ]
  },
  {
   "cell_type": "code",
   "execution_count": null,
   "id": "ff136fcc-c01c-4bbd-8ee3-1268c70ab659",
   "metadata": {},
   "outputs": [],
   "source": [
    "df.groupby(df.index.year)['Q_cfs'].min().plot.bar(figsize=(14,4))"
   ]
  },
  {
   "cell_type": "code",
   "execution_count": null,
   "id": "17e967ad-0232-415a-8a5f-387e2c654715",
   "metadata": {},
   "outputs": [],
   "source": [
    "df.groupby(df.index.year)['Q_cfs'].max().plot.bar(figsize=(10,4))"
   ]
  },
  {
   "cell_type": "markdown",
   "id": "f9e41c3c-49d3-43c2-ae63-349b3797f131",
   "metadata": {},
   "source": [
    "## Finally we can plot a multipage PDF with the yearly hydrograph plotted one year per page (nice!)"
   ]
  },
  {
   "cell_type": "code",
   "execution_count": null,
   "id": "c6b8ee8a-cc3b-4c08-9942-c775ef0c3699",
   "metadata": {
    "scrolled": true
   },
   "outputs": [],
   "source": [
    "with PdfPages('annual_hydrographs.pdf') as outpdf:\n",
    "    for cn, cg in df.groupby(df.index.year):\n",
    "        plt.figure()\n",
    "        cg.Q_cfs.plot()\n",
    "        plt.title(f\"Mean Daily Discharge for year {cn}\")\n",
    "        outpdf.savefig()\n",
    "        plt.close('all')\n",
    "        print(cn)"
   ]
  },
  {
   "cell_type": "code",
   "execution_count": null,
   "id": "4d321e3b-7d82-45d7-844f-49c6e95e2048",
   "metadata": {},
   "outputs": [],
   "source": []
  },
  {
   "cell_type": "code",
   "execution_count": null,
   "id": "15c71866-d302-49a3-9015-ed1a438cb247",
   "metadata": {},
   "outputs": [],
   "source": []
  },
  {
   "cell_type": "code",
   "execution_count": null,
   "id": "1ad47036-7abe-4465-865d-34b2bf6d590f",
   "metadata": {},
   "outputs": [],
   "source": []
  },
  {
   "cell_type": "code",
   "execution_count": null,
   "id": "852b5bf6-595e-4dbe-a3ff-1eb45b96cdc2",
   "metadata": {},
   "outputs": [],
   "source": []
  }
 ],
 "metadata": {
  "kernelspec": {
   "display_name": "Python 3 (ipykernel)",
   "language": "python",
   "name": "python3"
  },
  "language_info": {
   "codemirror_mode": {
    "name": "ipython",
    "version": 3
   },
   "file_extension": ".py",
   "mimetype": "text/x-python",
   "name": "python",
   "nbconvert_exporter": "python",
   "pygments_lexer": "ipython3",
   "version": "3.11.5"
  }
 },
 "nbformat": 4,
 "nbformat_minor": 5
}
