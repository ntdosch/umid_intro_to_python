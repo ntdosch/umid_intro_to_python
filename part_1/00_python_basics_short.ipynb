{
 "cells": [
  {
   "cell_type": "markdown",
   "id": "383b5dac-b94a-40d7-b14c-8add6289f8c2",
   "metadata": {},
   "source": [
    "# Introduction to programming with python - UMid F2F\n",
    "\n",
    "This notebook covers some of the basic aspects of Python that we'll be using in this course. If you have time and interest, a more complete indroduction to Python is included in `00_python_basics_long.ipynb`"
   ]
  },
  {
   "cell_type": "markdown",
   "id": "15824fba-986a-4682-8dc2-6dbcec0aa0d2",
   "metadata": {},
   "source": [
    "Code cells in notebooks can be excuted using the keys\n",
    "`Shift` + `Return`"
   ]
  },
  {
   "cell_type": "code",
   "execution_count": null,
   "id": "efae4f1a-88b0-4636-a470-672179c85852",
   "metadata": {},
   "outputs": [],
   "source": [
    "print('hello upper midest')"
   ]
  },
  {
   "cell_type": "markdown",
   "id": "4cdaf705-0d40-436e-9d50-86ad12211353",
   "metadata": {},
   "source": [
    "## Using Python as a Calculator\n",
    "Python can be used to simple perform arithmetic operations."
   ]
  },
  {
   "cell_type": "code",
   "execution_count": null,
   "id": "3fea84d9-945b-4223-a239-db2ad3627e3c",
   "metadata": {},
   "outputs": [],
   "source": [
    "6*9"
   ]
  },
  {
   "cell_type": "markdown",
   "id": "f354218b-3939-42d6-badb-34b99e303fd6",
   "metadata": {},
   "source": [
    "spaces are fine."
   ]
  },
  {
   "cell_type": "code",
   "execution_count": null,
   "id": "21ec58a5-fbcd-4fcd-8976-6701d6186407",
   "metadata": {},
   "outputs": [],
   "source": [
    "6 * 9"
   ]
  },
  {
   "cell_type": "markdown",
   "id": "49007f1e-14e2-4238-9649-d3396cd80e66",
   "metadata": {},
   "source": [
    "Exponents use `**` rather than `^` in some other languages."
   ]
  },
  {
   "cell_type": "code",
   "execution_count": null,
   "id": "b8b514ab-5b8d-4ecb-975c-b67a576bd8c0",
   "metadata": {},
   "outputs": [],
   "source": [
    "6**2"
   ]
  },
  {
   "cell_type": "markdown",
   "id": "f444101d-9ca3-46fa-8ff4-152f82a38e75",
   "metadata": {},
   "source": [
    "### What if you want to do more than basic arithmetic?\n",
    "We can import an external library with additonal tools. `numpy` is a powerful library that has access more mathematical functions (among many other tools). \n",
    "\n",
    "you can import packages from installed to your environment with `import`:"
   ]
  },
  {
   "cell_type": "code",
   "execution_count": null,
   "id": "6f4cd5f7-4029-4bd3-a131-3ccbfce2515e",
   "metadata": {},
   "outputs": [],
   "source": [
    "import numpy"
   ]
  },
  {
   "cell_type": "code",
   "execution_count": null,
   "id": "9c4a5a14-5d66-4337-9ade-61dc23ca7ad5",
   "metadata": {},
   "outputs": [],
   "source": [
    "numpy.sqrt(36)"
   ]
  },
  {
   "cell_type": "markdown",
   "id": "a744ee6c-9462-42d9-b32f-fde7a15d18bc",
   "metadata": {},
   "source": [
    "you also can alias libraries as you import them for convenience or convention"
   ]
  },
  {
   "cell_type": "code",
   "execution_count": null,
   "id": "9cd7d0f6-fd52-4a0c-8a9d-400d43047e8d",
   "metadata": {},
   "outputs": [],
   "source": [
    "import numpy as np"
   ]
  },
  {
   "cell_type": "code",
   "execution_count": null,
   "id": "1bbd02c3-9807-4aba-92ff-7c3c5519586f",
   "metadata": {},
   "outputs": [],
   "source": [
    "np.sqrt(36)"
   ]
  },
  {
   "cell_type": "markdown",
   "id": "e34dc23d-9ad6-4f6e-a1f4-2b0582bd87ed",
   "metadata": {},
   "source": [
    "## Data Structures and a few definitions  \n",
    "\n",
    "**data structure** -- A way to store and organize data in a computer.  \n",
    "In Python, there are a variety of data structures\n",
    "\n",
    "The most basic data types are numbers, including:  \n",
    "1. **integer (int)** \n",
    "2. **float/double precision (float)**\n",
    "\n",
    "(there are a few others but they don't come up often)\n",
    "\n",
    "There are also groups of characters:\n",
    "\n",
    "3. **string (str)**\n",
    "\n",
    "Variables can be of any type and the results can be assigned to symbols using the `=` sign.\n",
    "\n",
    "`print()` statements display values to standard output\n",
    "\n",
    "`type()` function tells you which number type a variable (or number) is.\n"
   ]
  },
  {
   "cell_type": "code",
   "execution_count": null,
   "id": "ddb08ad2-ee91-4161-a55e-529996f0bf9a",
   "metadata": {},
   "outputs": [],
   "source": [
    "a = 5.9\n",
    "print(a)\n",
    "\n",
    "b = 6\n",
    "print(b)"
   ]
  },
  {
   "cell_type": "code",
   "execution_count": null,
   "id": "3c06d01c-e20a-4d14-abab-c71bed698ebc",
   "metadata": {},
   "outputs": [],
   "source": [
    "type(a)"
   ]
  },
  {
   "cell_type": "code",
   "execution_count": null,
   "id": "832cfe79-8902-4308-8ea6-a334529f362c",
   "metadata": {},
   "outputs": [],
   "source": [
    "type(b)"
   ]
  },
  {
   "cell_type": "markdown",
   "id": "03c83aa2-1f47-4e8d-8b0d-59d09df7e690",
   "metadata": {},
   "source": [
    "### Lists ###\n",
    "There are a few ways to group values in Python. The most basic way is a list, defined by square brackets(`[ ]`) and comma-delimited "
   ]
  },
  {
   "cell_type": "code",
   "execution_count": null,
   "id": "39947f20-4ce6-4faf-8f3f-03d206f53ab0",
   "metadata": {},
   "outputs": [],
   "source": [
    "a = [2.3, 3.4, 5.5, 12.4, 33]\n",
    "print(a)"
   ]
  },
  {
   "cell_type": "code",
   "execution_count": null,
   "id": "75d30716-4f1e-491f-9912-ed74a4a62dd9",
   "metadata": {},
   "outputs": [],
   "source": [
    "type(a)"
   ]
  },
  {
   "cell_type": "markdown",
   "id": "4fa36879-2a3f-4797-b1e0-a920d050829d",
   "metadata": {},
   "source": [
    "#### Important Note!!!\n",
    "Python uses zero-referencing (like C, but unlike R, MATLAB, and FORTRAN). \n",
    "\n",
    "Using square brackets, look at the various values of `a` (e.g. `a[0]`, `a[2]`). Also, see what you get with `a[-1]` and `a[-2]`"
   ]
  },
  {
   "cell_type": "code",
   "execution_count": null,
   "id": "71cc8d1d-bf91-4baa-8b1c-6661a650e595",
   "metadata": {},
   "outputs": [],
   "source": [
    "a[0]"
   ]
  },
  {
   "cell_type": "markdown",
   "id": "a6dcc786-d6f3-44a6-8864-fdb4e3e2956c",
   "metadata": {},
   "source": [
    "### Lists of Lists\n",
    "You can make lists made up of anything (e.g. numbers, other lists, etc.)"
   ]
  },
  {
   "cell_type": "code",
   "execution_count": null,
   "id": "6af84b71-7bef-4c8a-9c07-d7c9448b5d5f",
   "metadata": {},
   "outputs": [],
   "source": [
    "b=5\n",
    "c=[3,'4ish',5.9]\n",
    "d = [a,b,c]\n",
    "print(d)"
   ]
  },
  {
   "cell_type": "code",
   "execution_count": null,
   "id": "d2ca9a0e-300d-488d-a379-90691efd19d6",
   "metadata": {},
   "outputs": [],
   "source": [
    "print(d[0])\n",
    "print(d[1])\n",
    "print(d[2])"
   ]
  },
  {
   "cell_type": "code",
   "execution_count": null,
   "id": "a003863d-0034-469e-b81f-0c7ae4515302",
   "metadata": {},
   "outputs": [],
   "source": [
    "aaaa = [1,2,3]\n",
    "aaaa + [5]"
   ]
  },
  {
   "cell_type": "markdown",
   "id": "cf9ea727-6512-40a0-9dca-6740df4c913e",
   "metadata": {},
   "source": [
    "### Strings\n",
    "Grouping characters together betwen double (\" \") or single (' ') parentheses creates strings."
   ]
  },
  {
   "cell_type": "code",
   "execution_count": null,
   "id": "2c15c976-11c7-4638-b67f-384c32ba9a46",
   "metadata": {},
   "outputs": [],
   "source": [
    "avar = \"This is a string (Includes 'spaces' and punctuation)\"\n",
    "bvar = 'This is also a string'\n",
    "\n",
    "print(avar)\n",
    "print(bvar)"
   ]
  },
  {
   "cell_type": "markdown",
   "id": "ca49ed09-bdc8-4e40-9624-986a7910a826",
   "metadata": {},
   "source": [
    "`len` returns the length of the string"
   ]
  },
  {
   "cell_type": "code",
   "execution_count": null,
   "id": "32eeb165-cd2a-434f-9c1f-4ddc64bbc617",
   "metadata": {},
   "outputs": [],
   "source": [
    "len(avar)"
   ]
  },
  {
   "cell_type": "markdown",
   "id": "069e3e8e-fcd3-490e-86e4-a50f5c33df5b",
   "metadata": {},
   "source": [
    "Using square brackets (`[]`) we can dereference values as if the string were an array or a list"
   ]
  },
  {
   "cell_type": "code",
   "execution_count": null,
   "id": "5bd8420b-fde2-455d-9c3e-a62c343a5a6b",
   "metadata": {},
   "outputs": [],
   "source": [
    "print(avar[0])\n",
    "print(avar[1])\n",
    "# negative indices count from the end of the string\n",
    "print(avar[-1])\n",
    "print(avar[-2])"
   ]
  },
  {
   "cell_type": "markdown",
   "id": "59e01920-3226-4278-b11f-b40260b28bfc",
   "metadata": {},
   "source": [
    "Since strings are just sequences of characters, they can be operated on using addition and multiplication."
   ]
  },
  {
   "cell_type": "code",
   "execution_count": null,
   "id": "ce6b071b-ca61-4b8c-8e04-e17761bad331",
   "metadata": {},
   "outputs": [],
   "source": [
    "d =  'a' + 'b' + 'c' + ' '\n",
    "print (d)\n",
    "print (d*5)"
   ]
  },
  {
   "cell_type": "markdown",
   "id": "2e87cd1e-8eb4-4cad-bef8-b1caea14862d",
   "metadata": {},
   "source": [
    "For comparisons, it can be important to match case, so we can cast to upper or lower or a couple other options"
   ]
  },
  {
   "cell_type": "code",
   "execution_count": null,
   "id": "c3c7397b-23ab-4d01-a160-16baf7011fc9",
   "metadata": {},
   "outputs": [],
   "source": [
    "avar.upper()"
   ]
  },
  {
   "cell_type": "code",
   "execution_count": null,
   "id": "d3c66fcd-2040-4db2-b31b-be0f8a1ad3ab",
   "metadata": {},
   "outputs": [],
   "source": [
    "avar.lower()"
   ]
  },
  {
   "cell_type": "code",
   "execution_count": null,
   "id": "ca1bc679-337d-4bd8-8690-d2e534f029c0",
   "metadata": {},
   "outputs": [],
   "source": [
    "avar.capitalize()"
   ]
  },
  {
   "cell_type": "code",
   "execution_count": null,
   "id": "922e4d15-c658-492b-8f0b-f96d1ba10701",
   "metadata": {},
   "outputs": [],
   "source": [
    "avar.swapcase()"
   ]
  },
  {
   "cell_type": "markdown",
   "id": "cd347753-1e29-460a-a1b7-ca26a6e47d83",
   "metadata": {},
   "source": [
    "### Dictionaries\n",
    "\n",
    "Dictionaries are also like lists, except that each element is a key-value pair. Dictionaries are a very useful data type that do not have a direct analog in *R*. The syntax for dictionaries is `{key1 : value1, ...}`:"
   ]
  },
  {
   "cell_type": "code",
   "execution_count": null,
   "id": "dc25f40e-dfe3-4e23-a9a2-ec0fa6c049e2",
   "metadata": {},
   "outputs": [],
   "source": [
    "params = {\"parameter1\" : 1.0,\n",
    "          \"parameter2\" : 2.0,\n",
    "          \"parameter3\" : 3.0}\n",
    "\n",
    "params"
   ]
  },
  {
   "cell_type": "code",
   "execution_count": null,
   "id": "1a23f5ea-e9e0-4837-b687-49795d376f47",
   "metadata": {},
   "outputs": [],
   "source": [
    "type(params)"
   ]
  },
  {
   "cell_type": "markdown",
   "id": "334b2ca7-4760-4d83-afd9-879ef4fc6707",
   "metadata": {},
   "source": [
    "A dictionary's keys can be viewed using `keys()`"
   ]
  },
  {
   "cell_type": "code",
   "execution_count": null,
   "id": "287a4a39-06e9-42ed-9243-27c32482d5c1",
   "metadata": {},
   "outputs": [],
   "source": [
    "params.keys()"
   ]
  },
  {
   "cell_type": "markdown",
   "id": "6b9cd6d4-8a47-4295-8a12-1052fb4e6257",
   "metadata": {},
   "source": [
    "Dictioary values can be accessed using keys supplied in square brackets:"
   ]
  },
  {
   "cell_type": "code",
   "execution_count": null,
   "id": "28472e5c-750b-4ee3-b042-ac5964abfd22",
   "metadata": {},
   "outputs": [],
   "source": [
    "params[\"parameter2\"]"
   ]
  },
  {
   "cell_type": "code",
   "execution_count": null,
   "id": "8aa9b863-a744-4a64-9217-1d91b6c2e564",
   "metadata": {},
   "outputs": [],
   "source": [
    "print(\"parameter1 = \" + str(params[\"parameter1\"]))\n",
    "print(\"parameter2 = \" + str(params[\"parameter2\"]))\n",
    "print(\"parameter3 = \" + str(params[\"parameter3\"]))"
   ]
  },
  {
   "cell_type": "markdown",
   "id": "be827a7e-be31-4720-9a21-dfa680377c85",
   "metadata": {},
   "source": [
    "Dictonary values can be updated or added"
   ]
  },
  {
   "cell_type": "code",
   "execution_count": null,
   "id": "d64a6865-16c4-4538-b734-ff1cb9a88080",
   "metadata": {},
   "outputs": [],
   "source": [
    "params[\"parameter1\"] = \"A\"\n",
    "params[\"parameter4\"] = \"D\"\n",
    "\n",
    "params"
   ]
  },
  {
   "cell_type": "markdown",
   "id": "ed9d2557-4b77-4ab9-9800-54b10aa70b80",
   "metadata": {},
   "source": [
    "# Process Flow\n",
    "We will cover conditional statements and a variety of loop types.\n",
    "\n",
    "### Conditional statements: if, elif, else\n",
    "The Python syntax for conditional execution of code use the keywords `if`, `elif` (else if), and `else`:"
   ]
  },
  {
   "cell_type": "code",
   "execution_count": null,
   "id": "320586fc-756c-491c-853d-640de36ca568",
   "metadata": {},
   "outputs": [],
   "source": [
    "statement1 = False\n",
    "statement2 = False\n",
    "\n",
    "if statement1==True:\n",
    "    print(\"statement1 is True\")\n",
    "    \n",
    "elif statement2==True:\n",
    "    print(\"statement2 is True\")\n",
    "    \n",
    "else:\n",
    "    print(\"statement1 and statement2 are False\")"
   ]
  },
  {
   "cell_type": "markdown",
   "id": "cdefdad4-92a1-4cb6-98e0-08db7f5d70b4",
   "metadata": {},
   "source": [
    "There are a couple critical things to see here. \n",
    "\n",
    "1. There is no `end if ` or other closing of the statement. This is all controlled by indentation.\n",
    "2. Each statement ends in a `':'`"
   ]
  },
  {
   "cell_type": "code",
   "execution_count": null,
   "id": "b77163af-a060-496f-a4ca-0a08d6981254",
   "metadata": {},
   "outputs": [],
   "source": [
    "statement1 or statement2"
   ]
  },
  {
   "cell_type": "code",
   "execution_count": null,
   "id": "e51bf286-b450-452d-8f37-76d13c291f4d",
   "metadata": {},
   "outputs": [],
   "source": [
    "not statement2"
   ]
  },
  {
   "cell_type": "markdown",
   "id": "07541fb7-bd45-452e-bf1e-d7925fc4147a",
   "metadata": {},
   "source": [
    "#### We can check for equivalence to other values. the following are tests for:\n",
    "\n",
    "    1. '==' equality\n",
    "    2. '!=' nonequality\n",
    "    3. '>' greater than\n",
    "    4. '<' less than\n",
    "    5. '>=' greater than or equal to\n",
    "    6. '<=' less than or equal to"
   ]
  },
  {
   "cell_type": "code",
   "execution_count": null,
   "id": "bcf607dc-51a2-4304-bc6a-0e55a8128541",
   "metadata": {},
   "outputs": [],
   "source": [
    "4 == 4"
   ]
  },
  {
   "cell_type": "code",
   "execution_count": null,
   "id": "ca81e558-91e6-40b3-9a3c-2aaeab8bfd8b",
   "metadata": {},
   "outputs": [],
   "source": [
    "4 == 5"
   ]
  },
  {
   "cell_type": "code",
   "execution_count": null,
   "id": "24def729-4980-465a-a670-652dde9d0d6c",
   "metadata": {},
   "outputs": [],
   "source": [
    "4 != 5"
   ]
  },
  {
   "cell_type": "code",
   "execution_count": null,
   "id": "d91a1288-8539-4b5c-afbc-28dd62b87cb8",
   "metadata": {},
   "outputs": [],
   "source": [
    "1 < 3"
   ]
  },
  {
   "cell_type": "markdown",
   "id": "b3c98a13-46d5-4e28-aefb-4ca90071aaaf",
   "metadata": {},
   "source": [
    "## Loops\n",
    "\n",
    "In Python, loops can be programmed in a number of different ways. The most common is the `for` loop, which is used together with iterable objects, such as lists. The basic syntax is:\n",
    "\n",
    "\n",
    "**`for` loops**:"
   ]
  },
  {
   "cell_type": "code",
   "execution_count": null,
   "id": "c68af34b-c1ef-46a6-834e-9b36ae16f349",
   "metadata": {},
   "outputs": [],
   "source": [
    "for i in [1,2,[9,8,0],4]:\n",
    "    print (i)"
   ]
  },
  {
   "cell_type": "markdown",
   "id": "382554c7-f74a-4c8e-b372-34e592fa6ffd",
   "metadata": {},
   "source": [
    "The `for` loop iterates over the elements of the supplied list, and executes the containing block once for each element. Note the same indentation rules as for `if` statements. \n",
    "\n",
    "Any kind of list can be used in the `for` loop. For example:"
   ]
  },
  {
   "cell_type": "code",
   "execution_count": null,
   "id": "ef6e5b40-e0d0-4072-a583-be6966e89c8f",
   "metadata": {},
   "outputs": [],
   "source": [
    "range(4)"
   ]
  },
  {
   "cell_type": "code",
   "execution_count": null,
   "id": "fe0f8ca5-613f-450b-a612-b5a42a72097a",
   "metadata": {},
   "outputs": [],
   "source": [
    "for x in range(4): # by default range start at 0\n",
    "    print(x)"
   ]
  },
  {
   "cell_type": "markdown",
   "id": "18c93b3a-daf5-40c8-a1ae-f95ece18cb61",
   "metadata": {},
   "source": [
    "Uh oh! Where is 4? `range()` constructions do not include the final value. This takes some getting used to! There is a long discussion on this topic [here](http://stackoverflow.com/questions/4504662/why-does-rangestart-end-not-include-end).\n",
    "\n",
    "Suffice it to say that the length of a range is the number stated and this is all related to zero indexing. Ranges can also start at values other than 0, but still never include the final value:"
   ]
  },
  {
   "cell_type": "code",
   "execution_count": null,
   "id": "f321ac04-faa9-44a2-a068-10b8ed3678ed",
   "metadata": {},
   "outputs": [],
   "source": [
    "for x in range(-3,3):\n",
    "    print(x)"
   ]
  },
  {
   "cell_type": "markdown",
   "id": "c5510be3-247e-49b8-b5f9-1d7f9a05a918",
   "metadata": {},
   "source": [
    "for loops iterate over the items in a list, those items don't have to be numbers"
   ]
  },
  {
   "cell_type": "code",
   "execution_count": null,
   "id": "479eeb45-6c0f-4775-80c9-fa681ad434f9",
   "metadata": {},
   "outputs": [],
   "source": [
    "a = ['one', 'word', 'per', 'loop']\n",
    "for word in a:\n",
    "    print (word)"
   ]
  },
  {
   "cell_type": "markdown",
   "id": "4fd6353c-4b7d-46f9-9c08-5f29f3140e5b",
   "metadata": {},
   "source": [
    "Sometimes we also need an index in addition to the items in our list. We can get both using `enumerate`"
   ]
  },
  {
   "cell_type": "code",
   "execution_count": null,
   "id": "bac3fe8a-cc60-4d34-99eb-540928487be5",
   "metadata": {},
   "outputs": [],
   "source": [
    "for i, word in enumerate(a):\n",
    "    print (f'word number {i} is \"{word}\"')"
   ]
  },
  {
   "cell_type": "markdown",
   "id": "5782c04a-4f65-492e-b666-8a399cb96479",
   "metadata": {},
   "source": [
    "We can also loop over the items in a dictionary"
   ]
  },
  {
   "cell_type": "code",
   "execution_count": null,
   "id": "79e53ae1-c266-4a8a-ac5f-e47e3c50832a",
   "metadata": {},
   "outputs": [],
   "source": [
    "for key in params:\n",
    "    print(key + \" = \" + str(params[key]))"
   ]
  },
  {
   "cell_type": "markdown",
   "id": "b9e2451e-6933-44f3-b4e3-8fe169bc3f61",
   "metadata": {},
   "source": [
    "### You can build lists during loops using `append` and `extend`, which are simmilar but differnet"
   ]
  },
  {
   "cell_type": "code",
   "execution_count": null,
   "id": "41d64f5f-26d6-440f-879e-e3253eba6898",
   "metadata": {},
   "outputs": [],
   "source": [
    "appended_list = []\n",
    "extended_list = []\n",
    "\n",
    "for i in range(3):\n",
    "    x = [i]*3\n",
    "    appended_list.append(x)\n",
    "    extended_list.extend(x)"
   ]
  },
  {
   "cell_type": "code",
   "execution_count": null,
   "id": "f087b9ae-783e-470a-8790-6c8de03ed187",
   "metadata": {},
   "outputs": [],
   "source": [
    "appended_list"
   ]
  },
  {
   "cell_type": "code",
   "execution_count": null,
   "id": "a18736f6-9ced-4a28-905f-875cf1cd7d80",
   "metadata": {},
   "outputs": [],
   "source": [
    "extended_list"
   ]
  },
  {
   "cell_type": "markdown",
   "id": "a4bb41bf-3024-41ee-8321-220e2210294c",
   "metadata": {},
   "source": [
    "# HEEEEEELP!\n",
    "\n",
    "You will always need help with Python. There are so many packages, modules, functions, datatypes, and everything else it takes a while to keep it all straight, and you will always need to update \n",
    "\n",
    "1. Stackoverflow is amazing--it can be toxic at times, but the community often converges on useful answers. Here's an [example](http://stackoverflow.com/questions/5505380/most-efficient-way-to-pull-specified-rows-from-a-2-d-array).\n",
    "2. Official documentation is good, but can overwhelm.\n",
    "    \n",
    "    * Python in general: https://docs.python.org/3/contents.html\n",
    "    * numpy and scipy: http://docs.scipy.org/doc/\n",
    "    * matplotlib: https://matplotlib.org/stable/users/index.html and especially https://matplotlib.org/stable/gallery/index.html\n",
    "3. Of course, Google is good _Google your error message text!_\n",
    "4. If you like books, consider [O'Reilly](http://shop.oreilly.com/product/0636920028154.do)\n",
    "5. While in iPython (or a notebook) try `help(np)` or `? np` for example.\n",
    "\n",
    "    * `help(np)` brings up docstrings in the output window\n",
    "    * `?np` opens a separate pane below (that you can kick out to another tab using a button next to the X) \n"
   ]
  },
  {
   "cell_type": "code",
   "execution_count": null,
   "id": "b831ec20-c42d-4c81-9951-f99d38959a0d",
   "metadata": {},
   "outputs": [],
   "source": [
    "help(np)"
   ]
  },
  {
   "cell_type": "code",
   "execution_count": null,
   "id": "cb24112d-9fed-4477-93b3-de5b9f5acbb1",
   "metadata": {},
   "outputs": [],
   "source": [
    "? np"
   ]
  },
  {
   "cell_type": "code",
   "execution_count": null,
   "id": "eec224d7-d4d8-4de2-890c-084813d23b93",
   "metadata": {},
   "outputs": [],
   "source": []
  }
 ],
 "metadata": {
  "kernelspec": {
   "display_name": "Python 3 (ipykernel)",
   "language": "python",
   "name": "python3"
  },
  "language_info": {
   "codemirror_mode": {
    "name": "ipython",
    "version": 3
   },
   "file_extension": ".py",
   "mimetype": "text/x-python",
   "name": "python",
   "nbconvert_exporter": "python",
   "pygments_lexer": "ipython3",
   "version": "3.11.5"
  }
 },
 "nbformat": 4,
 "nbformat_minor": 5
}
