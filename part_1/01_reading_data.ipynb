{
 "cells": [
  {
   "cell_type": "markdown",
   "id": "57c70f06-2662-4b9e-91ae-e1ca284e226c",
   "metadata": {},
   "source": [
    "# Reading data using `readlines`"
   ]
  },
  {
   "cell_type": "markdown",
   "id": "f3c12f8c-7f76-44f0-b910-d16087faf45b",
   "metadata": {},
   "source": [
    "Look at an example file from [NWIS site inventory](https://nwis.waterdata.usgs.gov/nwis/inventory\\n') that contains a list of all USGS sites in the Madison area. "
   ]
  },
  {
   "cell_type": "code",
   "execution_count": null,
   "id": "c1e610d2-caf5-4236-b0ca-0338c7253ffa",
   "metadata": {},
   "outputs": [],
   "source": [
    "input_file = 'data/site_information.txt'"
   ]
  },
  {
   "cell_type": "code",
   "execution_count": null,
   "id": "dbeb697c-78ae-4a82-a189-1e4d0cf42cb2",
   "metadata": {},
   "outputs": [],
   "source": [
    "with open(input_file, 'r') as f:\n",
    "    lines = f.readlines()"
   ]
  },
  {
   "cell_type": "code",
   "execution_count": null,
   "id": "a9ce5ac5-d256-48a6-add0-bc6b8d29b8c0",
   "metadata": {},
   "outputs": [],
   "source": [
    "lines"
   ]
  },
  {
   "cell_type": "markdown",
   "id": "5585b4a4-2093-466b-a218-c2b6260c5e19",
   "metadata": {},
   "source": [
    "`f.readlines()` reads the file line-by-line, returning a list of strings (for every line in the file)"
   ]
  },
  {
   "cell_type": "code",
   "execution_count": null,
   "id": "71657ad6-c6e3-4d18-baaf-a782f774bc2d",
   "metadata": {},
   "outputs": [],
   "source": [
    "lines[24]"
   ]
  },
  {
   "cell_type": "markdown",
   "id": "8b0b171f-8eec-46f0-b712-923d43e1e042",
   "metadata": {},
   "source": [
    "Split line on whitespace"
   ]
  },
  {
   "cell_type": "code",
   "execution_count": null,
   "id": "45487a9b-1bf9-447c-a635-307f6b87f8f6",
   "metadata": {},
   "outputs": [],
   "source": [
    "lines[24].split()"
   ]
  },
  {
   "cell_type": "markdown",
   "id": "161a1978-79cd-401b-84aa-b37ad4536f64",
   "metadata": {},
   "source": [
    "Split line on tabs"
   ]
  },
  {
   "cell_type": "code",
   "execution_count": null,
   "id": "f0a44775-5d7a-4ae9-b33f-a8f153fb3dd2",
   "metadata": {},
   "outputs": [],
   "source": [
    "lines[24].split('\\t') # '\\t' is the tabs character"
   ]
  },
  {
   "cell_type": "markdown",
   "id": "52f904ff-bad8-4c33-b805-6f4822d90e4c",
   "metadata": {},
   "source": [
    "### Get list of the surface water sites only"
   ]
  },
  {
   "cell_type": "code",
   "execution_count": null,
   "id": "1c6d7b08-33ae-4255-9a07-e2193fa9a086",
   "metadata": {},
   "outputs": [],
   "source": [
    "sw_site_lines = []\n",
    "\n",
    "for line in lines:\n",
    "    if line.startswith('#'): # skip the header lines\n",
    "        continue\n",
    "    else:\n",
    "        parts = line.split(\"\\t\")\n",
    "        if parts[1].startswith('054'): # use the site_no to differentiate sw from gw -- starts with \"054\"\n",
    "            sw_site_lines.append(parts)"
   ]
  },
  {
   "cell_type": "code",
   "execution_count": null,
   "id": "574f2fee-42f8-4683-846e-11ec86423b2a",
   "metadata": {},
   "outputs": [],
   "source": [
    "sw_site_lines"
   ]
  },
  {
   "cell_type": "code",
   "execution_count": null,
   "id": "c38ae379-906c-4722-8bae-dd8c2580d15e",
   "metadata": {},
   "outputs": [],
   "source": [
    "sw_site_lines[0]"
   ]
  },
  {
   "cell_type": "code",
   "execution_count": null,
   "id": "f9bfb0e0-f1e7-4e9c-ac0b-2a5c32c065e1",
   "metadata": {},
   "outputs": [],
   "source": [
    "sw_site_lines[0][1]"
   ]
  },
  {
   "cell_type": "markdown",
   "id": "ac751054-3f90-462d-8f13-61d25446e436",
   "metadata": {},
   "source": [
    "### Activity: Can you make a list of all surface water site numbers?"
   ]
  },
  {
   "cell_type": "code",
   "execution_count": null,
   "id": "c6819b32-9f0f-4284-91cd-debf52c7455b",
   "metadata": {},
   "outputs": [],
   "source": []
  },
  {
   "cell_type": "code",
   "execution_count": null,
   "id": "7e606902-619e-4c6d-a078-6dd66eefd069",
   "metadata": {},
   "outputs": [],
   "source": []
  },
  {
   "cell_type": "code",
   "execution_count": null,
   "id": "4d32e593-e9f8-4e00-a192-867c08610cc2",
   "metadata": {},
   "outputs": [],
   "source": []
  },
  {
   "cell_type": "markdown",
   "id": "728a6bd3-4c4f-47b5-96d2-5c66e14280cc",
   "metadata": {},
   "source": [
    "## Let's write the surface water lines out to a new file using tab separators"
   ]
  },
  {
   "cell_type": "markdown",
   "id": "30c86fe2-72fe-4233-9abd-036386251544",
   "metadata": {},
   "source": [
    "We can add the tabs back between the items using `join()`"
   ]
  },
  {
   "cell_type": "code",
   "execution_count": null,
   "id": "8fa0a4be-5626-4f9c-b3b6-eecf5d29d683",
   "metadata": {},
   "outputs": [],
   "source": [
    "sw_site_lines[0]"
   ]
  },
  {
   "cell_type": "code",
   "execution_count": null,
   "id": "53a2d508-a5f8-47bb-a9db-4880c3396e35",
   "metadata": {},
   "outputs": [],
   "source": [
    "'\\t'.join(sw_site_lines[0])"
   ]
  },
  {
   "cell_type": "markdown",
   "id": "d3f84f8a-3635-4e22-8a4f-27cf9325adc3",
   "metadata": {},
   "source": [
    "make a new directory called output"
   ]
  },
  {
   "cell_type": "code",
   "execution_count": null,
   "id": "6e4a071c-b604-4975-a523-8fcc2569a079",
   "metadata": {},
   "outputs": [],
   "source": [
    "import os\n",
    "\n",
    "# make a new folder for output files\n",
    "if not os.path.exists('output'):  # if it doesn't already exist\n",
    "    os.mkdir('output')"
   ]
  },
  {
   "cell_type": "code",
   "execution_count": null,
   "id": "5153a37d-8ed3-4a14-80bf-6ccc2b4b0936",
   "metadata": {},
   "outputs": [],
   "source": [
    "with open('output/sw_site_info_tabs.txt', 'w') as f:\n",
    "    for line in sw_site_lines:\n",
    "        f.write('\\t'.join(line))"
   ]
  },
  {
   "cell_type": "markdown",
   "id": "c5d95472-99b7-45e5-ab91-4f2472cbc348",
   "metadata": {},
   "source": [
    "### How about a comma separated .csv file?"
   ]
  },
  {
   "cell_type": "code",
   "execution_count": null,
   "id": "2c1f7f99-8d29-4ebd-b0c9-4c55b09d1498",
   "metadata": {},
   "outputs": [],
   "source": [
    "with open('output/sw_site_info_commas.csv', 'w') as f:\n",
    "    for line in sw_site_lines:\n",
    "        f.write(','.join(line)) # just join on ',' instead of tab"
   ]
  },
  {
   "cell_type": "markdown",
   "id": "e14eee4c-4e62-4bfe-8357-c5c7287d0a4a",
   "metadata": {},
   "source": [
    "### Slightly annoying - Excel splits on the comma in the station name! \n",
    "Add an extra step to remove commas before writing to csv"
   ]
  },
  {
   "cell_type": "code",
   "execution_count": null,
   "id": "29b73d4d-fb0b-40b5-a4ba-b71f17e94619",
   "metadata": {},
   "outputs": [],
   "source": [
    "with open('output/sw_site_info_commas_fixed.csv', 'w') as f:\n",
    "    for line in sw_site_lines:\n",
    "\n",
    "        updated_line = []\n",
    "        for item in line:\n",
    "            updated_line.append(item.replace(',', ' ')) # replace commas with a space\n",
    "            \n",
    "        f.write(','.join(updated_line))"
   ]
  },
  {
   "cell_type": "markdown",
   "id": "6bcd0ad5-7663-47b9-9b5c-d49d28f4de67",
   "metadata": {},
   "source": [
    "### finally, add a header line to the file"
   ]
  },
  {
   "cell_type": "code",
   "execution_count": null,
   "id": "ec14c8aa-4c8a-46bf-9e1c-0dbda1c5932e",
   "metadata": {},
   "outputs": [],
   "source": [
    "with open('output/sw_site_info_commas_header.csv', 'w') as f:\n",
    "    \n",
    "    f.write('agency_cd,site_no,site_name\\n') # this new header line needs the line ending character ('\\n') at the end\n",
    "    \n",
    "    for line in sw_site_lines:\n",
    "        \n",
    "        updated_line = []\n",
    "        for item in line:\n",
    "            updated_line.append(item.replace(',', ' '))\n",
    "            \n",
    "        f.write(','.join(updated_line))"
   ]
  },
  {
   "cell_type": "markdown",
   "id": "5f1fb337-5b82-45b6-a312-0277aea0c884",
   "metadata": {},
   "source": [
    "# Reading data using `Pandas`"
   ]
  },
  {
   "cell_type": "code",
   "execution_count": null,
   "id": "713ead3d-0415-499e-8a19-7507f8d3c9ee",
   "metadata": {},
   "outputs": [],
   "source": [
    "import pandas as pd"
   ]
  },
  {
   "cell_type": "markdown",
   "id": "e97664c2-bf64-49b8-95f5-64ea4f43683a",
   "metadata": {},
   "source": [
    "### Pandas' `read_csv()` is the primay way to read data into a Pandas DataFrame\n",
    "\n",
    "`read_csv()` is geared to read comma-separated values (csv) files"
   ]
  },
  {
   "cell_type": "code",
   "execution_count": null,
   "id": "b2bfec73-dee1-4b5a-bc5c-5d627c215b34",
   "metadata": {},
   "outputs": [],
   "source": [
    "df = pd.read_csv('output/sw_site_info_commas_header.csv')\n",
    "df"
   ]
  },
  {
   "cell_type": "markdown",
   "id": "08b011fe-3060-45f6-bcf6-0d15444fa56a",
   "metadata": {},
   "source": [
    "but `read_csv()` can also easily be used to read tabular data from a wide range of formats by specifying additional information to parse the file. \n",
    "\n",
    "Here, we read in the original text file using pandas and specify custon column names"
   ]
  },
  {
   "cell_type": "code",
   "execution_count": null,
   "id": "17207a95-5ef7-42ee-8895-d7c6e4e69fab",
   "metadata": {
    "scrolled": true
   },
   "outputs": [],
   "source": [
    "df = pd.read_csv('data/site_information.txt', \n",
    "                 delimiter='\\t', \n",
    "                 skiprows=24, # skip commented out header lines\n",
    "                 names=['agency_cd', 'site_number', 'site_name'])\n",
    "df"
   ]
  },
  {
   "cell_type": "markdown",
   "id": "4fe7808c-8f22-4048-b757-96ee522ce4f4",
   "metadata": {},
   "source": [
    "## Reading from Excel worksheets using `Pandas`"
   ]
  },
  {
   "cell_type": "code",
   "execution_count": null,
   "id": "d71dbb2b-d8a4-4706-91f7-22fc30be96d0",
   "metadata": {},
   "outputs": [],
   "source": [
    "input_data = 'data/daily_data.xlsx'"
   ]
  },
  {
   "cell_type": "markdown",
   "id": "62598ae7-6448-45e3-88eb-283cdd209942",
   "metadata": {},
   "source": [
    "This excel file contains mean daily flows data from two gages in separate tabs:\n",
    "- [USGS 040851385 FOX RIVER AT OIL TANK DEPOT AT GREEN BAY, WI](https://waterdata.usgs.gov/wi/nwis/dv/?site_no=040851385&referred_module=sw)\n",
    "- [USGS 05407000 WISCONSIN RIVER AT MUSCODA, WI](https://waterdata.usgs.gov/nwis/uv?site_no=05407000&legacy=1)\n",
    "\n",
    "We can look at the names of these tabs uing Pandas:"
   ]
  },
  {
   "cell_type": "code",
   "execution_count": null,
   "id": "2ae5cbbe-d204-49c6-af76-37872242972b",
   "metadata": {},
   "outputs": [],
   "source": [
    "xl = pd.ExcelFile(input_data)\n",
    "xl.sheet_names"
   ]
  },
  {
   "cell_type": "markdown",
   "id": "8bbddd3a-ad94-4811-85b6-9cf92d560a17",
   "metadata": {},
   "source": [
    "Next, we can use Pandas to read data from a specific sheet using `read_excel()`"
   ]
  },
  {
   "cell_type": "code",
   "execution_count": null,
   "id": "dcdc786a-00e7-46a2-acc6-83980900555d",
   "metadata": {},
   "outputs": [],
   "source": [
    "fox_df = pd.read_excel(input_data, sheet_name='040851385')\n",
    "fox_df"
   ]
  },
  {
   "cell_type": "markdown",
   "id": "09000856-3754-4143-97a0-a38620409a74",
   "metadata": {},
   "source": [
    "You can lose the leading zero from the site_no during this step (Excel does it too) when Pandas interprets the site_no as an integer"
   ]
  },
  {
   "cell_type": "code",
   "execution_count": null,
   "id": "d8e44fc4-eeb7-4c54-b29a-b4aa92eac531",
   "metadata": {},
   "outputs": [],
   "source": [
    "fox_df.dtypes"
   ]
  },
  {
   "cell_type": "markdown",
   "id": "b958184b-79e3-468d-ab41-259996a8cc4f",
   "metadata": {},
   "source": [
    "if you want, you can add the leading zero back to the `site_no` column and convert it to string (so that it doesn't happen again)"
   ]
  },
  {
   "cell_type": "code",
   "execution_count": null,
   "id": "e01a8eee-78ad-48b1-8833-fd6422658398",
   "metadata": {},
   "outputs": [],
   "source": [
    "fox_df['site_no'] = [f'{i:09}' for i in fox_df.site_no] # list comprehension with f-string formatting\n",
    "fox_df"
   ]
  },
  {
   "cell_type": "markdown",
   "id": "7bf28d8a-0fe1-41c4-bc46-d010fe994362",
   "metadata": {},
   "source": [
    "## Finally, we can save the data from this tab to it's own .csv file using `to_csv()`"
   ]
  },
  {
   "cell_type": "code",
   "execution_count": null,
   "id": "a7914583-48f2-4ad6-a4b6-23894654f37b",
   "metadata": {},
   "outputs": [],
   "source": [
    "fox_df.to_csv('output/040851385_mean_daily_flow.csv', index=False) # if index=True then the 0-365 indicies (left) are saved in the file too"
   ]
  }
 ],
 "metadata": {
  "kernelspec": {
   "display_name": "Python 3 (ipykernel)",
   "language": "python",
   "name": "python3"
  },
  "language_info": {
   "codemirror_mode": {
    "name": "ipython",
    "version": 3
   },
   "file_extension": ".py",
   "mimetype": "text/x-python",
   "name": "python",
   "nbconvert_exporter": "python",
   "pygments_lexer": "ipython3",
   "version": "3.11.5"
  }
 },
 "nbformat": 4,
 "nbformat_minor": 5
}
