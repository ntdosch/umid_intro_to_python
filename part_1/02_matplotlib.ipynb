{
 "cells": [
  {
   "cell_type": "markdown",
   "id": "56a4ffab-71da-453a-ad3f-08fedd23a3a9",
   "metadata": {},
   "source": [
    "# A brief introduction to `matplotlib`\n",
    "\n",
    "\n",
    "### In this notebook we'll look at a few ways to make plots using [matplotlib](https://matplotlib.org/stable/)\n",
    "\n",
    "\n",
    "#### The [matplotlib gallery](https://matplotlib.org/stable/gallery/index.html) is a great resource"
   ]
  },
  {
   "cell_type": "code",
   "execution_count": null,
   "id": "5d5b5b33-5648-47d3-bdbc-8825c1402d50",
   "metadata": {},
   "outputs": [],
   "source": [
    "import matplotlib.pyplot as plt\n",
    "import numpy as np"
   ]
  },
  {
   "cell_type": "markdown",
   "id": "70e3eacd-094b-4368-bb9b-6f41fdca0e65",
   "metadata": {},
   "source": [
    "## The basic plot"
   ]
  },
  {
   "cell_type": "code",
   "execution_count": null,
   "id": "9c4c47e4-7467-4e5b-a32d-8151b6ff041c",
   "metadata": {},
   "outputs": [],
   "source": [
    "x = np.arange(10)\n",
    "y = np.random.rand(10);"
   ]
  },
  {
   "cell_type": "code",
   "execution_count": null,
   "id": "87345eb2-25b8-48db-a6a9-a6419a08fe21",
   "metadata": {},
   "outputs": [],
   "source": [
    "plt.plot(x,y);"
   ]
  },
  {
   "cell_type": "markdown",
   "id": "59aad413-1f77-4880-b753-3e9566222692",
   "metadata": {},
   "source": [
    "### You can change the dimensions of your plot with `figsize`"
   ]
  },
  {
   "cell_type": "code",
   "execution_count": null,
   "id": "f2a3238e-f469-4e7a-b76e-cc8763f8cb21",
   "metadata": {},
   "outputs": [],
   "source": [
    "plt.figure(figsize=(10, 2))\n",
    "plt.plot(x,y);"
   ]
  },
  {
   "cell_type": "markdown",
   "id": "f018cd2c-56af-41ac-aeee-371d8ab6ea78",
   "metadata": {},
   "source": [
    "### Add labels, legend, title, and styling"
   ]
  },
  {
   "cell_type": "code",
   "execution_count": null,
   "id": "883ab06f-d3b9-444e-985a-2a37ff469ab8",
   "metadata": {},
   "outputs": [],
   "source": [
    "plt.plot(x,y, marker='o', linestyle='--', color='green', label='text for legend')\n",
    "plt.xlabel('x-axis label')\n",
    "plt.ylabel('y-axis label')\n",
    "plt.legend()\n",
    "plt.title('Fascinating data');"
   ]
  },
  {
   "cell_type": "markdown",
   "id": "7fc47518-d89f-47b4-89b3-a19936ef530e",
   "metadata": {},
   "source": [
    "## save figures using `savefig`"
   ]
  },
  {
   "cell_type": "code",
   "execution_count": null,
   "id": "73a21fb5-fba0-4378-86dd-d828477f3ae7",
   "metadata": {},
   "outputs": [],
   "source": [
    "plt.plot(x,y)\n",
    "plt.savefig('test.png') # can specify the type of file\n",
    "plt.savefig('test.pdf', dpi=400) # and the resolution"
   ]
  },
  {
   "cell_type": "markdown",
   "id": "5cf79301-2eaa-45b6-a017-e46d8d8a103b",
   "metadata": {},
   "source": [
    "## Scatter plot"
   ]
  },
  {
   "cell_type": "code",
   "execution_count": null,
   "id": "534a9cc6-d008-45d5-9cd7-24df841d1e0e",
   "metadata": {},
   "outputs": [],
   "source": [
    "y2 = np.random.rand(10);"
   ]
  },
  {
   "cell_type": "code",
   "execution_count": null,
   "id": "447b8561-2fe6-4009-8d3b-cc283f754c5d",
   "metadata": {},
   "outputs": [],
   "source": [
    "plt.scatter(x,y2);"
   ]
  },
  {
   "cell_type": "markdown",
   "id": "27e89e78-c38f-4f00-a96c-4f557aaab440",
   "metadata": {},
   "source": [
    "### Histogram"
   ]
  },
  {
   "cell_type": "code",
   "execution_count": null,
   "id": "ec0515f3-7098-4598-86c2-d68fcc28c55d",
   "metadata": {},
   "outputs": [],
   "source": [
    "norm = np.random.normal(size=500)"
   ]
  },
  {
   "cell_type": "code",
   "execution_count": null,
   "id": "81b703c6-d121-4686-b0d9-f7a2fab4489d",
   "metadata": {},
   "outputs": [],
   "source": [
    "plt.hist(norm, bins=20);"
   ]
  },
  {
   "cell_type": "markdown",
   "id": "3c7464a2-7c00-455c-ba6b-c657c129cd1e",
   "metadata": {},
   "source": [
    "## Plotting 2D array data"
   ]
  },
  {
   "cell_type": "code",
   "execution_count": null,
   "id": "29806b1f-e653-4653-be53-8c4337a4a21e",
   "metadata": {},
   "outputs": [],
   "source": [
    "# generate some array data using numpy\n",
    "\n",
    "delta = 0.025\n",
    "x0 = np.arange(-3.0, 3.0, delta)\n",
    "y0 = np.arange(-2.0, 2.0, delta)\n",
    "X, Y = np.meshgrid(x0, y0)\n",
    "Z1 = np.exp(-X**2 - Y**2)\n",
    "Z2 = np.exp(-(X - 1)**2 - (Y - 1)**2)\n",
    "Z = (Z1 -\n",
    "     Z2) * 2"
   ]
  },
  {
   "cell_type": "markdown",
   "id": "25fdd010-1025-48eb-9839-c422280fe454",
   "metadata": {},
   "source": [
    "### imshow"
   ]
  },
  {
   "cell_type": "code",
   "execution_count": null,
   "id": "db927a05-39a7-43c5-a169-11dcaec51b4e",
   "metadata": {},
   "outputs": [],
   "source": [
    "plt.imshow(Z)\n",
    "plt.gca().invert_yaxis()\n",
    "plt.colorbar(shrink=0.7);"
   ]
  },
  {
   "cell_type": "markdown",
   "id": "242b4fac-3756-4fc8-97ad-42b5b91edd3d",
   "metadata": {},
   "source": [
    "### contour"
   ]
  },
  {
   "cell_type": "code",
   "execution_count": null,
   "id": "bff2dea6-be30-46cb-a8ce-29d81e308f32",
   "metadata": {},
   "outputs": [],
   "source": [
    "im = plt.contour(Z)\n",
    "plt.clabel(im, fontsize=10);"
   ]
  },
  {
   "cell_type": "markdown",
   "id": "47748311-7e79-4d86-860e-bdf378161a29",
   "metadata": {},
   "source": [
    "### Figures with subplots"
   ]
  },
  {
   "cell_type": "code",
   "execution_count": null,
   "id": "be2521f3-724f-4fe1-8eb5-048eca982f8b",
   "metadata": {},
   "outputs": [],
   "source": [
    "fig, axes = plt.subplots(nrows=1, ncols=2, figsize=(10, 4))\n",
    "\n",
    "for i, ax in enumerate(axes):\n",
    "    ax.plot(x, y)\n",
    "    ax.set_xlabel('x label')\n",
    "    ax.set_ylabel('ylabel')\n",
    "    ax.set_title(f'plot {i}')\n",
    "\n",
    "plt.tight_layout();"
   ]
  },
  {
   "cell_type": "code",
   "execution_count": null,
   "id": "72a7bd4b-b34d-41f0-bd4c-544e0958987c",
   "metadata": {},
   "outputs": [],
   "source": [
    "fig, axes = plt.subplots(nrows=2, ncols=1, figsize=(4, 10))\n",
    "\n",
    "\n",
    "\n",
    "for i, ax in enumerate(axes):\n",
    "    ax.plot(x, y)\n",
    "    ax.set_xlabel('x label')\n",
    "    ax.set_ylabel('ylabel')\n",
    "    ax.set_title(f'plot {i}')\n",
    "\n",
    "plt.tight_layout();"
   ]
  },
  {
   "cell_type": "markdown",
   "id": "b757e2e0-3578-40e3-ae8f-b1d719c87cda",
   "metadata": {},
   "source": [
    "## Plotting multiple data series on one plot"
   ]
  },
  {
   "cell_type": "code",
   "execution_count": null,
   "id": "dc8806a5-f9d1-4305-ab74-014d2db13133",
   "metadata": {},
   "outputs": [],
   "source": [
    "fig, ax = plt.subplots()\n",
    "\n",
    "ax.plot(x, x**2, label=\"curve1\")\n",
    "ax.plot(x, x**3, label=\"curve2\")\n",
    "ax.legend();"
   ]
  },
  {
   "cell_type": "markdown",
   "id": "d33614ad-1238-465d-b17f-ec44a8122773",
   "metadata": {},
   "source": [
    "### Fill between"
   ]
  },
  {
   "cell_type": "code",
   "execution_count": null,
   "id": "02f8d1b5-56b2-467f-a218-cd2bbc8d288b",
   "metadata": {},
   "outputs": [],
   "source": [
    "plt.plot(x, x**2, label='forecast')\n",
    "plt.fill_between(x, x**2.1, x**1.9, alpha=0.3, label='uncertainty') # alpha sets transparency where 1 is opaque and 0 is transparent\n",
    "plt.legend(loc='upper left');"
   ]
  },
  {
   "cell_type": "markdown",
   "id": "9bf88c5a-39e7-4719-b84f-f7607791afd8",
   "metadata": {},
   "source": [
    "## annotating plots"
   ]
  },
  {
   "cell_type": "code",
   "execution_count": null,
   "id": "91ccb199-048a-436f-9c32-b33efddf51f4",
   "metadata": {},
   "outputs": [],
   "source": [
    "fig, ax = plt.subplots()\n",
    "\n",
    "t = np.arange(0.0, 5.0, 0.01)\n",
    "s = np.cos(2*np.pi*t)\n",
    "line, = ax.plot(t, s, lw=2)\n",
    "\n",
    "ax.annotate('local max', xy=(2, 1), xytext=(3, 1.5),\n",
    "            arrowprops=dict(facecolor='black', shrink=0.05),\n",
    "            )\n",
    "ax.set_ylim(-2, 2)\n",
    "plt.show()"
   ]
  },
  {
   "cell_type": "code",
   "execution_count": null,
   "id": "ec58f332-c521-4d5d-9cdc-d3144daa1716",
   "metadata": {},
   "outputs": [],
   "source": []
  }
 ],
 "metadata": {
  "kernelspec": {
   "display_name": "Python 3 (ipykernel)",
   "language": "python",
   "name": "python3"
  },
  "language_info": {
   "codemirror_mode": {
    "name": "ipython",
    "version": 3
   },
   "file_extension": ".py",
   "mimetype": "text/x-python",
   "name": "python",
   "nbconvert_exporter": "python",
   "pygments_lexer": "ipython3",
   "version": "3.11.5"
  }
 },
 "nbformat": 4,
 "nbformat_minor": 5
}
